{
 "cells": [
  {
   "cell_type": "code",
   "execution_count": null,
   "metadata": {},
   "outputs": [],
   "source": [
    "# 编写ORM，实现通过对象来操作数据库\n",
    "import asyncio,aiomysql\n",
    "from email import charset\n",
    "import logging\n",
    "\n",
    "from itsdangerous import exc; \n",
    "logging.basicConfig(level=logging.INFO)\n",
    "\n",
    "# 打印执行的SQL语句\n",
    "def log(sql,args=()):\n",
    "    logging.info(f'SQL: {sql}')\n",
    "\n",
    "# 创建连接池\n",
    "async def create_pool(loop,**kw):\n",
    "    logging.info('创建数据库连接池...')\n",
    "    global __pool\n",
    "    # create_pool参数中，user、password和db必须指定，其余的设置了默认值\n",
    "    __pool = await aiomysql.create_pool(\n",
    "        host = kw.get('host','localhost'),\n",
    "        port = kw.get('port',3306) ,\n",
    "        user = kw['user'],\n",
    "        password = kw['password'],\n",
    "        db = kw['db'],\n",
    "        charset = kw.get('charset','utf8'),\n",
    "        autocommit = kw.get('autocommit',True),\n",
    "        maxsize = kw.get('maxsize',10),\n",
    "        minsize = kw.get('minsize',1),\n",
    "        loop = loop\n",
    "    )\n",
    "\n",
    "# 使用函数来表示SQL中SELECT、Insert、Update和Delete语句\n",
    "async def select(sql,args,size=None):\n",
    "    log(sql,args)\n",
    "    global __pool\n",
    "    with (await __pool) as conn:\n",
    "        cur = conn.cursor(aiomysql.DictCursor)\n",
    "        await cur.execute(sql.replace('?','%s'),args or ())\n",
    "        if size:\n",
    "            rs = await cur.fetchmany(size)\n",
    "        else:\n",
    "            rs = await cur.fetchall()\n",
    "        await cur.close()\n",
    "        logging.info(f'rows returned: {len(rs)}')\n",
    "        return rs # 返回结果集\n",
    "    \n",
    "async def execute(sql,args):\n",
    "    log(sql)\n",
    "    with (await __pool) as conn:\n",
    "        try:\n",
    "            cur = await conn.cursor()\n",
    "            await cur.execute(sql.replace('?','%s'),args)\n",
    "            affected = cur.rowcount\n",
    "            await cur.close()\n",
    "        except BaseException as e:\n",
    "            raise\n",
    "        return affected # 返回影响的行数\n",
    "\n",
    "# 定义所有ORM映射的基类\n"
   ]
  },
  {
   "cell_type": "code",
   "execution_count": 5,
   "metadata": {},
   "outputs": [],
   "source": [
    "a = ()\n",
    "if a:\n",
    "    print('hello')\n",
    "    print(len(a))"
   ]
  },
  {
   "cell_type": "code",
   "execution_count": 10,
   "metadata": {},
   "outputs": [
    {
     "name": "stdout",
     "output_type": "stream",
     "text": [
      "INSERT INTO EMPLOYEE(FIRST_NAME, \n",
      "       LAST_NAME, AGE, SEX, INCOME)\n",
      "       VALUES (Mar, Moha,  20,  M,  2022)\n",
      "hello,123\n"
     ]
    }
   ],
   "source": [
    "sql = '''INSERT INTO EMPLOYEE(FIRST_NAME, \n",
    "       LAST_NAME, AGE, SEX, INCOME)\n",
    "       VALUES (%s, %s,  %s,  %s,  %s)'''\n",
    "args = ('Mar', 'Moha', 20, 'M', 2022)\n",
    "print(sql % args)\n",
    "\n",
    "print('hello,%s' %123)"
   ]
  },
  {
   "cell_type": "code",
   "execution_count": 12,
   "metadata": {},
   "outputs": [
    {
     "name": "stdout",
     "output_type": "stream",
     "text": [
      "INSERT INTO EMPLOYEE(FIRST_NAME, \n",
      "       LAST_NAME, AGE, SEX, INCOME)\n",
      "       VALUES (Mar, Moha,  20,  M,  2022)\n"
     ]
    }
   ],
   "source": [
    "def log(sql,args=()):\n",
    "    if args:\n",
    "        print(sql % args)\n",
    "    else:\n",
    "        print(sql)\n",
    "sql = '''INSERT INTO EMPLOYEE(FIRST_NAME, \n",
    "       LAST_NAME, AGE, SEX, INCOME)\n",
    "       VALUES (%s, %s,  %s,  %s,  %s)'''\n",
    "args = ('Mar', 'Moha', 20, 'M', 2022)\n",
    "\n",
    "log(sql,args)\n"
   ]
  },
  {
   "cell_type": "code",
   "execution_count": 16,
   "metadata": {},
   "outputs": [
    {
     "ename": "SyntaxError",
     "evalue": "invalid syntax (1624912056.py, line 3)",
     "output_type": "error",
     "traceback": [
      "\u001b[0;36m  File \u001b[0;32m\"/var/folders/kl/g9jmzv3j68x7vl0d1kk11bs80000gn/T/ipykernel_95522/1624912056.py\"\u001b[0;36m, line \u001b[0;32m3\u001b[0m\n\u001b[0;31m    print(`'abc'`)\u001b[0m\n\u001b[0m          ^\u001b[0m\n\u001b[0;31mSyntaxError\u001b[0m\u001b[0;31m:\u001b[0m invalid syntax\n"
     ]
    }
   ],
   "source": [
    "a = 'abc'\n",
    "\n",
    "print(`'abc'`)"
   ]
  },
  {
   "cell_type": "code",
   "execution_count": 21,
   "metadata": {},
   "outputs": [
    {
     "name": "stdout",
     "output_type": "stream",
     "text": [
      "select aaa, a,b,c from name\n"
     ]
    }
   ],
   "source": [
    "f = ['a','b','c']\n",
    "# s = 'select %s, %s from %s' % ('aaa',','.join(f),'name')\n",
    "s = f\"select {'aaa'}, {','.join(f)} from {'name'}\"\n",
    "print(s)"
   ]
  },
  {
   "cell_type": "code",
   "execution_count": 25,
   "metadata": {},
   "outputs": [
    {
     "name": "stdout",
     "output_type": "stream",
     "text": [
      "a = ?,b = ?,c = ?\n"
     ]
    }
   ],
   "source": [
    "a = 'aaa'\n",
    "print(','.join(map(lambda a: f\"{a} = ?\",f)))"
   ]
  },
  {
   "cell_type": "code",
   "execution_count": 27,
   "metadata": {},
   "outputs": [
    {
     "name": "stdout",
     "output_type": "stream",
     "text": [
      "aaabbb\n"
     ]
    }
   ],
   "source": [
    "s = 'aaa' + 'bbb'\n",
    "print(s)"
   ]
  },
  {
   "cell_type": "code",
   "execution_count": 35,
   "metadata": {},
   "outputs": [
    {
     "name": "stdout",
     "output_type": "stream",
     "text": [
      "50\n",
      "001643623191773\n",
      "695c7803db454f06aeb002e1e62348c0\n",
      "32\n",
      "20\n",
      "15\n"
     ]
    }
   ],
   "source": [
    "import time,uuid\n",
    "def next_id():\n",
    "    return '%015d%s000' % (int(time.time() * 1000), uuid.uuid4().hex)\n",
    "\n",
    "print(len(next_id()))\n",
    "print('%015d' % int(time.time()*1000))\n",
    "print('%s' % uuid.uuid4().hex)\n",
    "print(len('%s' % uuid.uuid4().hex))\n",
    "a = '00164362286967566799'\n",
    "print(len(a))\n",
    "b = '001643623077125'\n",
    "print(len(b))"
   ]
  },
  {
   "cell_type": "code",
   "execution_count": 38,
   "metadata": {},
   "outputs": [
    {
     "name": "stdout",
     "output_type": "stream",
     "text": [
      "1643687911.8773692\n"
     ]
    }
   ],
   "source": [
    "import time\n",
    "\n",
    "print(str(time.time()))"
   ]
  },
  {
   "cell_type": "code",
   "execution_count": 47,
   "metadata": {},
   "outputs": [
    {
     "name": "stdout",
     "output_type": "stream",
     "text": [
      "time.struct_time(tm_year=2016, tm_mon=5, tm_mday=5, tm_hour=20, tm_min=28, tm_sec=54, tm_wday=3, tm_yday=126, tm_isdst=-1)\n",
      "1462451334.0\n",
      "2016-05-05 20:28:54\n"
     ]
    }
   ],
   "source": [
    "import time\n",
    "\n",
    "dt = \"2016-05-05 20:28:54\"\n",
    "\n",
    "#转换成时间数组\n",
    "timeArray = time.strptime(dt, \"%Y-%m-%d %H:%M:%S\")\n",
    "#转换成时间戳\n",
    "timestamp = time.mktime(timeArray)\n",
    "\n",
    "localtime = time.strftime('%Y-%m-%d %H:%M:%S',time.localtime(timestamp))\n",
    "\n",
    "print(timeArray)\n",
    "print(timestamp)\n",
    "print(localtime)"
   ]
  },
  {
   "cell_type": "code",
   "execution_count": 49,
   "metadata": {},
   "outputs": [
    {
     "name": "stdout",
     "output_type": "stream",
     "text": [
      "2022-02-01 13:39:56\n"
     ]
    }
   ],
   "source": [
    "import time\n",
    "\n",
    "now = time.time()\n",
    "\n",
    "ltime = time.localtime(now)\n",
    "\n",
    "now_time = time.strftime('%Y-%m-%d %H:%M:%S',ltime)\n",
    "print(now_time)"
   ]
  },
  {
   "cell_type": "code",
   "execution_count": 53,
   "metadata": {},
   "outputs": [
    {
     "name": "stdout",
     "output_type": "stream",
     "text": [
      "aaa Test bbb saca\n"
     ]
    }
   ],
   "source": [
    "a = ['Test','saca']\n",
    "s = 'aaa %s bbb %s' % tuple(a)\n",
    "# print(tuple(a))\n",
    "print(s)"
   ]
  },
  {
   "cell_type": "code",
   "execution_count": 60,
   "metadata": {},
   "outputs": [
    {
     "ename": "TypeError",
     "evalue": "not enough arguments for format string",
     "output_type": "error",
     "traceback": [
      "\u001b[0;31m---------------------------------------------------------------------------\u001b[0m",
      "\u001b[0;31mTypeError\u001b[0m                                 Traceback (most recent call last)",
      "\u001b[0;32m/var/folders/kl/g9jmzv3j68x7vl0d1kk11bs80000gn/T/ipykernel_95522/400940320.py\u001b[0m in \u001b[0;36m<module>\u001b[0;34m\u001b[0m\n\u001b[1;32m      2\u001b[0m \u001b[0m_sql\u001b[0m \u001b[0;34m=\u001b[0m \u001b[0msql\u001b[0m\u001b[0;34m.\u001b[0m\u001b[0mreplace\u001b[0m\u001b[0;34m(\u001b[0m\u001b[0;34m'?'\u001b[0m\u001b[0;34m,\u001b[0m\u001b[0;34m'%s'\u001b[0m\u001b[0;34m)\u001b[0m\u001b[0;34m\u001b[0m\u001b[0m\n\u001b[1;32m      3\u001b[0m \u001b[0margs\u001b[0m \u001b[0;34m=\u001b[0m \u001b[0;34m[\u001b[0m\u001b[0;34m'123'\u001b[0m\u001b[0;34m,\u001b[0m\u001b[0;34m]\u001b[0m\u001b[0;34m\u001b[0m\u001b[0m\n\u001b[0;32m----> 4\u001b[0;31m \u001b[0ms\u001b[0m \u001b[0;34m=\u001b[0m \u001b[0m_sql\u001b[0m \u001b[0;34m%\u001b[0m \u001b[0mtuple\u001b[0m\u001b[0;34m(\u001b[0m\u001b[0margs\u001b[0m\u001b[0;34m)\u001b[0m\u001b[0;34m\u001b[0m\u001b[0m\n\u001b[0m\u001b[1;32m      5\u001b[0m \u001b[0mprint\u001b[0m\u001b[0;34m(\u001b[0m\u001b[0ms\u001b[0m\u001b[0;34m)\u001b[0m\u001b[0;34m\u001b[0m\u001b[0m\n",
      "\u001b[0;31mTypeError\u001b[0m: not enough arguments for format string"
     ]
    }
   ],
   "source": [
    "sql = 'select id, email,password,admin,name,image,created_at from users where id = ?, a=?,c=?'\n",
    "_sql = sql.replace('?','%s')\n",
    "args = ['123',]\n",
    "s = _sql % tuple(args)\n",
    "print(s)"
   ]
  }
 ],
 "metadata": {
  "interpreter": {
   "hash": "4d53862f5161daae326217586d30e2262b8627974bac4db672cb0de3b66660b6"
  },
  "kernelspec": {
   "display_name": "Python 3.7.0 64-bit ('web': conda)",
   "name": "python3"
  },
  "language_info": {
   "codemirror_mode": {
    "name": "ipython",
    "version": 3
   },
   "file_extension": ".py",
   "mimetype": "text/x-python",
   "name": "python",
   "nbconvert_exporter": "python",
   "pygments_lexer": "ipython3",
   "version": "3.7.0"
  }
 },
 "nbformat": 4,
 "nbformat_minor": 5
}
